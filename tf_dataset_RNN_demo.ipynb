{
 "cells": [
  {
   "cell_type": "code",
   "execution_count": 1,
   "metadata": {},
   "outputs": [],
   "source": [
    "import pandas as pd\n",
    "import matplotlib.pyplot as plt\n",
    "import seaborn as sns\n",
    "from sklearn.model_selection import train_test_split\n",
    "import tensorflow as tf\n",
    "from tensorflow.keras.preprocessing.text import Tokenizer\n",
    "from tensorflow.keras import layers"
   ]
  },
  {
   "cell_type": "code",
   "execution_count": 2,
   "metadata": {},
   "outputs": [],
   "source": [
    "train = pd.read_csv('train.csv')\n",
    "test = pd.read_csv('test.csv')"
   ]
  },
  {
   "cell_type": "code",
   "execution_count": 3,
   "metadata": {},
   "outputs": [
    {
     "data": {
      "image/png": "[encoded data removed]",
      "text/plain": [
       "<Figure size 432x288 with 1 Axes>"
      ]
     },
     "metadata": {
      "needs_background": "light"
     },
     "output_type": "display_data"
    },
    {
     "data": {
      "text/plain": [
       "<Figure size 432x288 with 0 Axes>"
      ]
     },
     "metadata": {},
     "output_type": "display_data"
    }
   ],
   "source": [
    "# looking at distribution of targets\n",
    "\n",
    "colors = ['#054e79', '#940b0b']\n",
    "sns.countplot('target', data=train, palette=colors)\n",
    "plt.title('Tweets about Disasters Distribution \\n (0: Normal // 1: Disaster)')\n",
    "plt.figure()\n",
    "plt.show()\n",
    "# ~ 40/60 disaster-to-normal split"
   ]
  },
  {
   "cell_type": "code",
   "execution_count": 4,
   "metadata": {},
   "outputs": [],
   "source": [
    "train_df, val_df = train_test_split(train, test_size=0.2, random_state=1)"
   ]
  },
  {
   "cell_type": "code",
   "execution_count": 5,
   "metadata": {},
   "outputs": [
    {
     "name": "stdout",
     "output_type": "stream",
     "text": [
      "19424\n"
     ]
    }
   ],
   "source": [
    "# tokenize and update vocabulary based on training text\n",
    "\n",
    "tk = Tokenizer()\n",
    "train_text = train_df['text'].to_numpy()\n",
    "tk.fit_on_texts(train_text)\n",
    "vocab_size = len(tk.word_index) + 1\n",
    "print(vocab_size)"
   ]
  },
  {
   "cell_type": "code",
   "execution_count": 6,
   "metadata": {},
   "outputs": [],
   "source": [
    "# after tokenizing text, want to convert into sequences (i.e. mapping text to a seq of integers)\n",
    "\n",
    "def text_to_seq(text):\n",
    "    seq = tk.texts_to_sequences(text)\n",
    "    seq = tf.keras.preprocessing.sequence.pad_sequences(seq, padding='post')\n",
    "    return seq\n",
    "\n",
    "train_seq = text_to_seq(train_text)\n",
    "train_target = train_df['target'].to_numpy()\n",
    "\n",
    "val_text = val_df['text'].to_numpy()\n",
    "val_seq = text_to_seq(val_text)\n",
    "val_target = val_df['target'].to_numpy()\n",
    "\n",
    "test_text = test['text'].to_numpy()\n",
    "test_seq = text_to_seq(test_text)\n",
    "\n",
    "train_ds = tf.data.Dataset.from_tensor_slices((train_seq, train_target))\n",
    "val_ds = tf.data.Dataset.from_tensor_slices((val_seq, val_target))"
   ]
  },
  {
   "cell_type": "code",
   "execution_count": 7,
   "metadata": {},
   "outputs": [],
   "source": [
    "BUFFER_SIZE = 6090\n",
    "BATCH_SIZE = 32\n",
    "\n",
    "train_ds = train_ds.shuffle(BUFFER_SIZE).batch(BATCH_SIZE)\n",
    "val_ds = val_ds.batch(BATCH_SIZE)"
   ]
  },
  {
   "cell_type": "code",
   "execution_count": 8,
   "metadata": {},
   "outputs": [],
   "source": [
    "# prefetching is used to decouple the time between when data is produced and consumed\n",
    "\n",
    "train_ds = train_ds.prefetch(buffer_size=tf.data.experimental.AUTOTUNE)\n",
    "val_ds = val_ds.prefetch(buffer_size=tf.data.experimental.AUTOTUNE)"
   ]
  },
  {
   "cell_type": "code",
   "execution_count": 9,
   "metadata": {},
   "outputs": [],
   "source": [
    "# build a sequential model for RNN\n",
    "model = tf.keras.Sequential([\n",
    "    layers.Embedding(vocab_size, 32),\n",
    "    layers.Bidirectional(tf.keras.layers.LSTM(32)),\n",
    "    layers.Dropout(0.4),\n",
    "    layers.Dense(32, activation='relu'),\n",
    "    layers.Dropout(0.4),\n",
    "    layers.Dense(1, activation='sigmoid')\n",
    "])\n",
    "\n",
    "model.compile(loss='binary_crossentropy',\n",
    "              optimizer=tf.keras.optimizers.Adam(1e-4),\n",
    "              metrics=['accuracy'])"
   ]
  },
  {
   "cell_type": "code",
   "execution_count": 10,
   "metadata": {},
   "outputs": [
    {
     "name": "stdout",
     "output_type": "stream",
     "text": [
      "Epoch 1/50\n",
      "191/191 [==============================] - 7s 37ms/step - loss: 0.6908 - accuracy: 0.5379 - val_loss: 0.0000e+00 - val_accuracy: 0.0000e+00\n",
      "Epoch 2/50\n",
      "191/191 [==============================] - 2s 10ms/step - loss: 0.6795 - accuracy: 0.5681 - val_loss: 0.6640 - val_accuracy: 0.5791\n",
      "Epoch 3/50\n",
      "191/191 [==============================] - 2s 11ms/step - loss: 0.6435 - accuracy: 0.6090 - val_loss: 0.6095 - val_accuracy: 0.6612\n",
      "Epoch 4/50\n",
      "191/191 [==============================] - 2s 11ms/step - loss: 0.5582 - accuracy: 0.7550 - val_loss: 0.5148 - val_accuracy: 0.7722\n",
      "Epoch 5/50\n",
      "191/191 [==============================] - 2s 11ms/step - loss: 0.4272 - accuracy: 0.8278 - val_loss: 0.4652 - val_accuracy: 0.7965\n",
      "Epoch 6/50\n",
      "191/191 [==============================] - 2s 11ms/step - loss: 0.3467 - accuracy: 0.8701 - val_loss: 0.4574 - val_accuracy: 0.7958\n",
      "Epoch 7/50\n",
      "191/191 [==============================] - 2s 11ms/step - loss: 0.2622 - accuracy: 0.9034 - val_loss: 0.4730 - val_accuracy: 0.8024\n",
      "Epoch 8/50\n",
      "191/191 [==============================] - 2s 11ms/step - loss: 0.1866 - accuracy: 0.9363 - val_loss: 0.5114 - val_accuracy: 0.7886\n",
      "Epoch 9/50\n",
      "191/191 [==============================] - 2s 11ms/step - loss: 0.1388 - accuracy: 0.9548 - val_loss: 0.5496 - val_accuracy: 0.7978\n"
     ]
    }
   ],
   "source": [
    "callback = tf.keras.callbacks.EarlyStopping(monitor='val_loss', patience=3)\n",
    "\n",
    "history = model.fit(train_ds, epochs=50, validation_data=val_ds, callbacks=[callback])"
   ]
  },
  {
   "cell_type": "code",
   "execution_count": 11,
   "metadata": {},
   "outputs": [
    {
     "data": {
      "image/png": "[encoded data removed]",
      "text/plain": [
       "<Figure size 432x288 with 1 Axes>"
      ]
     },
     "metadata": {
      "needs_background": "light"
     },
     "output_type": "display_data"
    },
    {
     "data": {
      "image/png": "[encoded data removed]",
      "text/plain": [
       "<Figure size 432x288 with 1 Axes>"
      ]
     },
     "metadata": {
      "needs_background": "light"
     },
     "output_type": "display_data"
    }
   ],
   "source": [
    "def plot_graphs(history, string):\n",
    "    plt.plot(history.history[string])\n",
    "    plt.plot(history.history['val_'+string], '')\n",
    "    plt.xlabel(\"Epochs\")\n",
    "    plt.ylabel(string)\n",
    "    plt.legend([string, 'val_'+string])\n",
    "    plt.show()\n",
    "    \n",
    "\n",
    "plot_graphs(history, 'accuracy')\n",
    "plot_graphs(history, 'loss')"
   ]
  },
  {
   "cell_type": "code",
   "execution_count": 12,
   "metadata": {},
   "outputs": [],
   "source": [
    "test['target'] = model.predict(test_seq)\n",
    "\n",
    "# again, since binary classification, >0.5 indicates disaster, <0.5 indicates non-disaster"
   ]
  },
  {
   "cell_type": "code",
   "execution_count": 13,
   "metadata": {},
   "outputs": [
    {
     "data": {
      "text/html": [
       "<div>\n",
       "<style scoped>\n",
       "    .dataframe tbody tr th:only-of-type {\n",
       "        vertical-align: middle;\n",
       "    }\n",
       "\n",
       "    .dataframe tbody tr th {\n",
       "        vertical-align: top;\n",
       "    }\n",
       "\n",
       "    .dataframe thead th {\n",
       "        text-align: right;\n",
       "    }\n",
       "</style>\n",
       "<table border=\"1\" class=\"dataframe\">\n",
       "  <thead>\n",
       "    <tr style=\"text-align: right;\">\n",
       "      <th></th>\n",
       "      <th>id</th>\n",
       "      <th>keyword</th>\n",
       "      <th>location</th>\n",
       "      <th>text</th>\n",
       "      <th>target</th>\n",
       "    </tr>\n",
       "  </thead>\n",
       "  <tbody>\n",
       "    <tr>\n",
       "      <th>0</th>\n",
       "      <td>0</td>\n",
       "      <td>NaN</td>\n",
       "      <td>NaN</td>\n",
       "      <td>Just happened a terrible car crash</td>\n",
       "      <td>0.995025</td>\n",
       "    </tr>\n",
       "    <tr>\n",
       "      <th>1</th>\n",
       "      <td>2</td>\n",
       "      <td>NaN</td>\n",
       "      <td>NaN</td>\n",
       "      <td>Heard about #earthquake is different cities, s...</td>\n",
       "      <td>0.980942</td>\n",
       "    </tr>\n",
       "    <tr>\n",
       "      <th>2</th>\n",
       "      <td>3</td>\n",
       "      <td>NaN</td>\n",
       "      <td>NaN</td>\n",
       "      <td>there is a forest fire at spot pond, geese are...</td>\n",
       "      <td>0.995831</td>\n",
       "    </tr>\n",
       "    <tr>\n",
       "      <th>3</th>\n",
       "      <td>9</td>\n",
       "      <td>NaN</td>\n",
       "      <td>NaN</td>\n",
       "      <td>Apocalypse lighting. #Spokane #wildfires</td>\n",
       "      <td>0.830819</td>\n",
       "    </tr>\n",
       "    <tr>\n",
       "      <th>4</th>\n",
       "      <td>11</td>\n",
       "      <td>NaN</td>\n",
       "      <td>NaN</td>\n",
       "      <td>Typhoon Soudelor kills 28 in China and Taiwan</td>\n",
       "      <td>0.998456</td>\n",
       "    </tr>\n",
       "  </tbody>\n",
       "</table>\n",
       "</div>"
      ],
      "text/plain": [
       "   id keyword location                                               text  \\\n",
       "0   0     NaN      NaN                 Just happened a terrible car crash   \n",
       "1   2     NaN      NaN  Heard about #earthquake is different cities, s...   \n",
       "2   3     NaN      NaN  there is a forest fire at spot pond, geese are...   \n",
       "3   9     NaN      NaN           Apocalypse lighting. #Spokane #wildfires   \n",
       "4  11     NaN      NaN      Typhoon Soudelor kills 28 in China and Taiwan   \n",
       "\n",
       "     target  \n",
       "0  0.995025  \n",
       "1  0.980942  \n",
       "2  0.995831  \n",
       "3  0.830819  \n",
       "4  0.998456  "
      ]
     },
     "execution_count": 13,
     "metadata": {},
     "output_type": "execute_result"
    }
   ],
   "source": [
    "test.head()"
   ]
  },
  {
   "cell_type": "code",
   "execution_count": 14,
   "metadata": {},
   "outputs": [],
   "source": [
    "# w/ val_accuracy around 0.79, model also predicts disasters fairly well\n",
    "# save this dataframe to csv to view all predictions\n",
    "\n",
    "test.to_csv('tf_test_pred.csv')"
   ]
  }
 ],
 "metadata": {
  "kernelspec": {
   "display_name": "Python 3",
   "language": "python",
   "name": "python3"
  },
  "language_info": {
   "codemirror_mode": {
    "name": "ipython",
    "version": 3
   },
   "file_extension": ".py",
   "mimetype": "text/x-python",
   "name": "python",
   "nbconvert_exporter": "python",
   "pygments_lexer": "ipython3",
   "version": "3.6.9"
  }
 },
 "nbformat": 4,
 "nbformat_minor": 2
}
