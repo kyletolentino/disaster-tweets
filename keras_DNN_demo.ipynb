{
 "cells": [
  {
   "cell_type": "code",
   "execution_count": 1,
   "metadata": {},
   "outputs": [],
   "source": [
    "import pandas as pd\n",
    "import matplotlib.pyplot as plt\n",
    "import tensorflow as tf\n",
    "from tensorflow.keras.preprocessing.text import Tokenizer\n",
    "from tensorflow.keras import layers"
   ]
  },
  {
   "cell_type": "code",
   "execution_count": 2,
   "metadata": {},
   "outputs": [],
   "source": [
    "# loading csv files\n",
    "\n",
    "train = pd.read_csv('train.csv')\n",
    "test = pd.read_csv('test.csv')"
   ]
  },
  {
   "cell_type": "code",
   "execution_count": 3,
   "metadata": {},
   "outputs": [],
   "source": [
    "# pulling out text and target data\n",
    "\n",
    "y = train['target'].values\n",
    "tweet_train = train['text'].values\n",
    "tweet_test = test['text'].values"
   ]
  },
  {
   "cell_type": "code",
   "execution_count": 4,
   "metadata": {},
   "outputs": [],
   "source": [
    "# preprocessing text for model\n",
    "\n",
    "tk = Tokenizer()\n",
    "tk.fit_on_texts(list(tweet_train))\n",
    "tokenized_train = tk.texts_to_sequences(tweet_train)\n",
    "tokenized_test = tk.texts_to_sequences(tweet_test)\n",
    "vocab_size = len(tk.word_index) + 1\n",
    "# vocab size is 19424"
   ]
  },
  {
   "cell_type": "code",
   "execution_count": 5,
   "metadata": {},
   "outputs": [],
   "source": [
    "# padding preprocessed text because not every tweet has same length\n",
    "\n",
    "max_len = 150\n",
    "X_train = tf.keras.preprocessing.sequence.pad_sequences(tokenized_train, maxlen=max_len)\n",
    "X_test = tf.keras.preprocessing.sequence.pad_sequences(tokenized_test, maxlen=max_len)"
   ]
  },
  {
   "cell_type": "code",
   "execution_count": 6,
   "metadata": {},
   "outputs": [],
   "source": [
    "embed_size = 512\n",
    "epoch_size = 50"
   ]
  },
  {
   "cell_type": "code",
   "execution_count": 7,
   "metadata": {},
   "outputs": [],
   "source": [
    "model = tf.keras.Sequential([\n",
    "    layers.Embedding(vocab_size, embed_size, input_shape=(max_len, )),\n",
    "    layers.GlobalMaxPool1D(),\n",
    "    layers.Dropout(0.1),\n",
    "    layers.Dense(512, activation='relu'),\n",
    "    layers.Dropout(0.1),\n",
    "    layers.Dense(1, activation='sigmoid')\n",
    "])\n",
    "\n",
    "model.compile(loss='binary_crossentropy',\n",
    "              optimizer=tf.keras.optimizers.SGD(momentum=0.9, nesterov=True, lr=0.005, decay=1e-6),\n",
    "              metrics=['accuracy'])"
   ]
  },
  {
   "cell_type": "code",
   "execution_count": 8,
   "metadata": {},
   "outputs": [
    {
     "name": "stdout",
     "output_type": "stream",
     "text": [
      "Model: \"sequential\"\n",
      "_________________________________________________________________\n",
      "Layer (type)                 Output Shape              Param #   \n",
      "=================================================================\n",
      "embedding (Embedding)        (None, 150, 512)          11622912  \n",
      "_________________________________________________________________\n",
      "global_max_pooling1d (Global (None, 512)               0         \n",
      "_________________________________________________________________\n",
      "dropout (Dropout)            (None, 512)               0         \n",
      "_________________________________________________________________\n",
      "dense (Dense)                (None, 512)               262656    \n",
      "_________________________________________________________________\n",
      "dropout_1 (Dropout)          (None, 512)               0         \n",
      "_________________________________________________________________\n",
      "dense_1 (Dense)              (None, 1)                 513       \n",
      "=================================================================\n",
      "Total params: 11,886,081\n",
      "Trainable params: 11,886,081\n",
      "Non-trainable params: 0\n",
      "_________________________________________________________________\n"
     ]
    }
   ],
   "source": [
    "model.summary()"
   ]
  },
  {
   "cell_type": "code",
   "execution_count": 9,
   "metadata": {},
   "outputs": [],
   "source": [
    "callback = tf.keras.callbacks.EarlyStopping(monitor='val_loss', patience=3)"
   ]
  },
  {
   "cell_type": "code",
   "execution_count": 10,
   "metadata": {},
   "outputs": [
    {
     "name": "stdout",
     "output_type": "stream",
     "text": [
      "Train on 6090 samples, validate on 1523 samples\n",
      "Epoch 1/50\n",
      "6090/6090 [==============================] - 10s 2ms/sample - loss: 0.6808 - accuracy: 0.5793 - val_loss: 0.6892 - val_accuracy: 0.5345\n",
      "Epoch 2/50\n",
      "6090/6090 [==============================] - 9s 2ms/sample - loss: 0.6706 - accuracy: 0.5793 - val_loss: 0.6722 - val_accuracy: 0.5345\n",
      "Epoch 3/50\n",
      "6090/6090 [==============================] - 9s 2ms/sample - loss: 0.6538 - accuracy: 0.6107 - val_loss: 0.6431 - val_accuracy: 0.6815\n",
      "Epoch 4/50\n",
      "6090/6090 [==============================] - 9s 2ms/sample - loss: 0.6364 - accuracy: 0.6496 - val_loss: 0.6266 - val_accuracy: 0.6743\n",
      "Epoch 5/50\n",
      "6090/6090 [==============================] - 9s 2ms/sample - loss: 0.6237 - accuracy: 0.6591 - val_loss: 0.6217 - val_accuracy: 0.6861\n",
      "Epoch 6/50\n",
      "6090/6090 [==============================] - 9s 2ms/sample - loss: 0.6099 - accuracy: 0.6834 - val_loss: 0.6134 - val_accuracy: 0.6881\n",
      "Epoch 7/50\n",
      "6090/6090 [==============================] - 9s 2ms/sample - loss: 0.5982 - accuracy: 0.6910 - val_loss: 0.6148 - val_accuracy: 0.7111\n",
      "Epoch 8/50\n",
      "6090/6090 [==============================] - 10s 2ms/sample - loss: 0.5851 - accuracy: 0.7084 - val_loss: 0.6022 - val_accuracy: 0.6894\n",
      "Epoch 9/50\n",
      "6090/6090 [==============================] - 10s 2ms/sample - loss: 0.5673 - accuracy: 0.7269 - val_loss: 0.6012 - val_accuracy: 0.7085\n",
      "Epoch 10/50\n",
      "6090/6090 [==============================] - 10s 2ms/sample - loss: 0.5459 - accuracy: 0.7438 - val_loss: 0.5847 - val_accuracy: 0.7170\n",
      "Epoch 11/50\n",
      "6090/6090 [==============================] - 10s 2ms/sample - loss: 0.5213 - accuracy: 0.7677 - val_loss: 0.5685 - val_accuracy: 0.7308\n",
      "Epoch 12/50\n",
      "6090/6090 [==============================] - 9s 2ms/sample - loss: 0.4928 - accuracy: 0.7841 - val_loss: 0.5459 - val_accuracy: 0.7308\n",
      "Epoch 13/50\n",
      "6090/6090 [==============================] - 9s 2ms/sample - loss: 0.4629 - accuracy: 0.8021 - val_loss: 0.5444 - val_accuracy: 0.7466\n",
      "Epoch 14/50\n",
      "6090/6090 [==============================] - 9s 2ms/sample - loss: 0.4296 - accuracy: 0.8264 - val_loss: 0.5259 - val_accuracy: 0.7564\n",
      "Epoch 15/50\n",
      "6090/6090 [==============================] - 9s 2ms/sample - loss: 0.3994 - accuracy: 0.8414 - val_loss: 0.4949 - val_accuracy: 0.7814\n",
      "Epoch 16/50\n",
      "6090/6090 [==============================] - 9s 2ms/sample - loss: 0.3671 - accuracy: 0.8530 - val_loss: 0.4797 - val_accuracy: 0.7800\n",
      "Epoch 17/50\n",
      "6090/6090 [==============================] - 10s 2ms/sample - loss: 0.3402 - accuracy: 0.8654 - val_loss: 0.4709 - val_accuracy: 0.7814\n",
      "Epoch 18/50\n",
      "6090/6090 [==============================] - 9s 2ms/sample - loss: 0.3128 - accuracy: 0.8824 - val_loss: 0.4733 - val_accuracy: 0.7958\n",
      "Epoch 19/50\n",
      "6090/6090 [==============================] - 9s 2ms/sample - loss: 0.2819 - accuracy: 0.8952 - val_loss: 0.4565 - val_accuracy: 0.7919\n",
      "Epoch 20/50\n",
      "6090/6090 [==============================] - 9s 2ms/sample - loss: 0.2532 - accuracy: 0.9080 - val_loss: 0.4657 - val_accuracy: 0.7997\n",
      "Epoch 21/50\n",
      "6090/6090 [==============================] - 10s 2ms/sample - loss: 0.2277 - accuracy: 0.9182 - val_loss: 0.4592 - val_accuracy: 0.8017\n",
      "Epoch 22/50\n",
      "6090/6090 [==============================] - 9s 2ms/sample - loss: 0.1992 - accuracy: 0.9373 - val_loss: 0.4537 - val_accuracy: 0.7965\n",
      "Epoch 23/50\n",
      "6090/6090 [==============================] - 9s 2ms/sample - loss: 0.1767 - accuracy: 0.9475 - val_loss: 0.4574 - val_accuracy: 0.8083\n",
      "Epoch 24/50\n",
      "6090/6090 [==============================] - 9s 2ms/sample - loss: 0.1546 - accuracy: 0.9522 - val_loss: 0.4607 - val_accuracy: 0.8076\n",
      "Epoch 25/50\n",
      "6090/6090 [==============================] - 9s 2ms/sample - loss: 0.1289 - accuracy: 0.9662 - val_loss: 0.4668 - val_accuracy: 0.8070\n"
     ]
    }
   ],
   "source": [
    "history = model.fit(X_train, y, epochs=epoch_size,\n",
    "                    validation_split=0.2, callbacks=[callback], shuffle=True)"
   ]
  },
  {
   "cell_type": "code",
   "execution_count": 11,
   "metadata": {},
   "outputs": [],
   "source": [
    "def plot_graphs(history, string):\n",
    "    plt.plot(history.history[string])\n",
    "    plt.plot(history.history['val_'+string], '')\n",
    "    plt.xlabel(\"Epochs\")\n",
    "    plt.ylabel(string)\n",
    "    plt.legend([string, 'val_'+string])\n",
    "    plt.show()"
   ]
  },
  {
   "cell_type": "code",
   "execution_count": 12,
   "metadata": {},
   "outputs": [
    {
     "data": {
      "image/png": "[encoded data removed]",
      "text/plain": [
       "<Figure size 432x288 with 1 Axes>"
      ]
     },
     "metadata": {
      "needs_background": "light"
     },
     "output_type": "display_data"
    },
    {
     "data": {
      "image/png": "[encoded data removed]",
      "text/plain": [
       "<Figure size 432x288 with 1 Axes>"
      ]
     },
     "metadata": {
      "needs_background": "light"
     },
     "output_type": "display_data"
    }
   ],
   "source": [
    "plot_graphs(history, 'accuracy')\n",
    "plot_graphs(history, 'loss')"
   ]
  },
  {
   "cell_type": "code",
   "execution_count": 15,
   "metadata": {},
   "outputs": [],
   "source": [
    "test['target'] = model.predict(X_test)\n",
    "\n",
    "# since this is binary classification, target values >0.5 indicate disaster, <0.5 indicate non-disaster"
   ]
  },
  {
   "cell_type": "code",
   "execution_count": 16,
   "metadata": {},
   "outputs": [
    {
     "data": {
      "text/html": [
       "<div>\n",
       "<style scoped>\n",
       "    .dataframe tbody tr th:only-of-type {\n",
       "        vertical-align: middle;\n",
       "    }\n",
       "\n",
       "    .dataframe tbody tr th {\n",
       "        vertical-align: top;\n",
       "    }\n",
       "\n",
       "    .dataframe thead th {\n",
       "        text-align: right;\n",
       "    }\n",
       "</style>\n",
       "<table border=\"1\" class=\"dataframe\">\n",
       "  <thead>\n",
       "    <tr style=\"text-align: right;\">\n",
       "      <th></th>\n",
       "      <th>id</th>\n",
       "      <th>keyword</th>\n",
       "      <th>location</th>\n",
       "      <th>text</th>\n",
       "      <th>target</th>\n",
       "    </tr>\n",
       "  </thead>\n",
       "  <tbody>\n",
       "    <tr>\n",
       "      <th>0</th>\n",
       "      <td>0</td>\n",
       "      <td>NaN</td>\n",
       "      <td>NaN</td>\n",
       "      <td>Just happened a terrible car crash</td>\n",
       "      <td>0.633856</td>\n",
       "    </tr>\n",
       "    <tr>\n",
       "      <th>1</th>\n",
       "      <td>2</td>\n",
       "      <td>NaN</td>\n",
       "      <td>NaN</td>\n",
       "      <td>Heard about #earthquake is different cities, s...</td>\n",
       "      <td>0.904526</td>\n",
       "    </tr>\n",
       "    <tr>\n",
       "      <th>2</th>\n",
       "      <td>3</td>\n",
       "      <td>NaN</td>\n",
       "      <td>NaN</td>\n",
       "      <td>there is a forest fire at spot pond, geese are...</td>\n",
       "      <td>0.893093</td>\n",
       "    </tr>\n",
       "    <tr>\n",
       "      <th>3</th>\n",
       "      <td>9</td>\n",
       "      <td>NaN</td>\n",
       "      <td>NaN</td>\n",
       "      <td>Apocalypse lighting. #Spokane #wildfires</td>\n",
       "      <td>0.445602</td>\n",
       "    </tr>\n",
       "    <tr>\n",
       "      <th>4</th>\n",
       "      <td>11</td>\n",
       "      <td>NaN</td>\n",
       "      <td>NaN</td>\n",
       "      <td>Typhoon Soudelor kills 28 in China and Taiwan</td>\n",
       "      <td>0.880710</td>\n",
       "    </tr>\n",
       "  </tbody>\n",
       "</table>\n",
       "</div>"
      ],
      "text/plain": [
       "   id keyword location                                               text  \\\n",
       "0   0     NaN      NaN                 Just happened a terrible car crash   \n",
       "1   2     NaN      NaN  Heard about #earthquake is different cities, s...   \n",
       "2   3     NaN      NaN  there is a forest fire at spot pond, geese are...   \n",
       "3   9     NaN      NaN           Apocalypse lighting. #Spokane #wildfires   \n",
       "4  11     NaN      NaN      Typhoon Soudelor kills 28 in China and Taiwan   \n",
       "\n",
       "     target  \n",
       "0  0.633856  \n",
       "1  0.904526  \n",
       "2  0.893093  \n",
       "3  0.445602  \n",
       "4  0.880710  "
      ]
     },
     "execution_count": 16,
     "metadata": {},
     "output_type": "execute_result"
    }
   ],
   "source": [
    "test.head()"
   ]
  },
  {
   "cell_type": "code",
   "execution_count": 17,
   "metadata": {},
   "outputs": [],
   "source": [
    "# we can see that for the most part, model can predict disasters\n",
    "# however, this model still experiences overfitting (observe loss graph as epochs increase)",
    "# save this dataframe to csv to view all predictions\n",
    "\n",
    "test.to_csv('test_pred.csv')"
   ]
  }
 ],
 "metadata": {
  "kernelspec": {
   "display_name": "Python 3",
   "language": "python",
   "name": "python3"
  },
  "language_info": {
   "codemirror_mode": {
    "name": "ipython",
    "version": 3
   },
   "file_extension": ".py",
   "mimetype": "text/x-python",
   "name": "python",
   "nbconvert_exporter": "python",
   "pygments_lexer": "ipython3",
   "version": "3.6.9"
  }
 },
 "nbformat": 4,
 "nbformat_minor": 2
}
